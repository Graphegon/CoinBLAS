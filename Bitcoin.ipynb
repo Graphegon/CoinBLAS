{
 "cells": [
  {
   "cell_type": "code",
   "execution_count": 1,
   "metadata": {},
   "outputs": [],
   "source": [
    "from coinblas.bitcoin import Bitcoin\n",
    "\n",
    "g = Bitcoin(\n",
    "    \"host=db user=postgres dbname=coinblas password=postgres\",\n",
    "    \"/home/jovyan/coinblas/database-blocks\", \n",
    "    '2011-01-01', '2012-01-01')"
   ]
  },
  {
   "cell_type": "code",
   "execution_count": 2,
   "metadata": {},
   "outputs": [
    {
     "name": "stdout",
     "output_type": "stream",
     "text": [
      "Blocks to Txs: 1901765 values.\n",
      "Inputs to Tx: 3506747 values.\n",
      "Tx to Outputs: 4641047 values.\n",
      "Inputs to Outputs: 8341956 values.\n",
      "Tx to Tx: 3373361 values.\n",
      "Blocks span 100414 to 160036\n",
      "Earliest Transaction: 333425b563f3ac302a91fb1cd91102e6564a16bd4ab47285d9bcf4d23784f1ee\n",
      "Latest Transaction: fe151d562869b36e44a5df96f2207efb07188337da8278172ef439815378dad7\n",
      "Blocks time span Sat Jan  1 00:35:38 2011 to Sat Dec 31 23:57:26 2011\n",
      "Total value input 294978504.39738655 output 297959854.3873865\n"
     ]
    }
   ],
   "source": [
    "g.summary()"
   ]
  },
  {
   "cell_type": "code",
   "execution_count": 3,
   "metadata": {
    "scrolled": false
   },
   "outputs": [
    {
     "name": "stdout",
     "output_type": "stream",
     "text": [
      "Summary for b478d70e5f1feae3870136e4c5bdb18c285bf6d7a5f7da005aa5b351aab28fb3\n",
      "Block: 131228\n",
      "  Inputs\n",
      "     <Spend: <Address: 1LmBQt7AA3rD8RvXYcQUKExAYwk7hh51kG> value: 0.0102996>\n",
      "        from 2ac84b0986f436aa515d913dc33728d61940adbdbc6c25903dd5d1837bbf023d in block 131083\n",
      "     <Spend: <Address: 1D7RKX5TJVbm5fX2tE311QePy7Lguxa2U1> value: 0.01>\n",
      "        from 7514e023bfe2228917feaabb11c9806fa966958bcebb4bbcc8b36982ea782e95 in block 131088\n",
      "     <Spend: <Address: 1EK7ECSSBWUC2e3tBN1c9gAWZ6TZJ8sr6V> value: 1.1758236>\n",
      "        from d06d8ff9f163d8c6274bb98e644650bb9e05578e88caccffcd50da3e9b6c9735 in block 131092\n",
      "     <Spend: <Address: 1HT1ev7Ne8jmEcyNnU8GYcp9nb9LDuRaXq> value: 0.019>\n",
      "        from 22e4b012c4f1d72dc61072116c32d041faff31aa20c2abc9d07ddd5e5252841c in block 131115\n",
      "     <Spend: <Address: 1DR6mRQey77i7fNRTfo2eSKh7bGqLgs7TY> value: 0.01230103>\n",
      "        from 6947bd8b6845511b0ee3ae4b69e15fc5dddb82578ab11306a35f71357746c673 in block 131125\n",
      "     <Spend: <Address: 1KeW9rqzSF8Q6Bnz5W5ujaqXKHz9modn4D> value: 0.019>\n",
      "        from 91ef6ad74511a160a6fc669f6c766e093434005c39ae88a92e1f2a0373f83401 in block 131125\n",
      "     <Spend: <Address: 1NehmSjpAHCa3ykndNjAFAPf6y2myavbVg> value: 0.15>\n",
      "        from 88536bcc125ea77f920f1ab5c74cd7cb9b3a2628f2e8cdc4396b5f06ef2aaafb in block 131126\n",
      "     <Spend: <Address: 1NehmSjpAHCa3ykndNjAFAPf6y2myavbVg> value: 0.15>\n",
      "        from f8d5ccec3d63c7b83beb1dee071c3bc21f98cea7d02b583f0cf55be8dfaee386 in block 131126\n",
      "  Outputs\n",
      "     <Spend: <Address: 17Y46bTEXcQ5JLXFya13Ee5C4wFQa6gGcY> value: 0.00042423>\n",
      "        to 4702c18c68fbcad41e50b9c912942475e48a909b3766f1bb26acf0652d9577d5 in block 138958\n",
      "     <Spend: <Address: 17GVmM8rqqELUeL8kVkgH3Q7Lb9z8SXdRE> value: 1.545>\n",
      "        to a742ff28db6b286e8866d5baa7953cae5c4bb1b25bd2d8a06a05ae35be8fe72a in block 131234\n"
     ]
    }
   ],
   "source": [
    "g.tx('b478d70e5f1feae3870136e4c5bdb18c285bf6d7a5f7da005aa5b351aab28fb3').summary()"
   ]
  },
  {
   "cell_type": "code",
   "execution_count": 4,
   "metadata": {
    "scrolled": true
   },
   "outputs": [
    {
     "name": "stdout",
     "output_type": "stream",
     "text": [
      "Tracing 1LmBQt7AA3rD8RvXYcQUKExAYwk7hh51kG to 1JC1TskpMEv8SqnLdHth7FexLwzi8A8x2e\n",
      "1 occurences of 1LmBQt7AA3rD8RvXYcQUKExAYwk7hh51kG\n",
      "1 occurences of 1JC1TskpMEv8SqnLdHth7FexLwzi8A8x2e\n",
      "Search is between blocks 131083 and 133689 \n",
      "After 8 rounds searched 358 addresses found 1 of 1 after 0.0045 seconds\n",
      "Flow search took 0.0054\n"
     ]
    },
    {
     "data": {
      "text/plain": [
       "[<Exposure: <Address: 1JC1TskpMEv8SqnLdHth7FexLwzi8A8x2e> value: 0.010169>]"
      ]
     },
     "execution_count": 4,
     "metadata": {},
     "output_type": "execute_result"
    }
   ],
   "source": [
    "g.address('1LmBQt7AA3rD8RvXYcQUKExAYwk7hh51kG').exposure('1JC1TskpMEv8SqnLdHth7FexLwzi8A8x2e', debug=True)"
   ]
  },
  {
   "cell_type": "code",
   "execution_count": null,
   "metadata": {},
   "outputs": [],
   "source": []
  }
 ],
 "metadata": {
  "kernelspec": {
   "display_name": "Python 3",
   "language": "python",
   "name": "python3"
  },
  "language_info": {
   "codemirror_mode": {
    "name": "ipython",
    "version": 3
   },
   "file_extension": ".py",
   "mimetype": "text/x-python",
   "name": "python",
   "nbconvert_exporter": "python",
   "pygments_lexer": "ipython3",
   "version": "3.8.5"
  }
 },
 "nbformat": 4,
 "nbformat_minor": 4
}
